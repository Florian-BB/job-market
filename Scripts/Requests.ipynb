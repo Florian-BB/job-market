{
 "cells": [
  {
   "cell_type": "markdown",
   "metadata": {},
   "source": [
    "Connexion à la base de données"
   ]
  },
  {
   "cell_type": "code",
   "execution_count": 9,
   "metadata": {},
   "outputs": [
    {
     "name": "stdout",
     "output_type": "stream",
     "text": [
      "['admin', 'config', 'job', 'local']\n"
     ]
    }
   ],
   "source": [
    "from sqlalchemy import create_engine, MetaData, text\n",
    "from pymongo import MongoClient\n",
    "import os\n",
    "\n",
    "### MYSQL\n",
    "username = \"ff\"\n",
    "password = os.environ.get(\"mysql_ff_jobmarket\")\n",
    "hostname = os.environ.get(\"ip_jobmarket\")\n",
    "port = \"3306\"\n",
    "database_name = \"jobmarket\"\n",
    "\n",
    "db_url = f\"mysql+mysqlconnector://{username}:{password}@{hostname}:{port}/{database_name}\"\n",
    "metadata = MetaData()\n",
    "engine = create_engine(db_url)\n",
    "\n",
    "### MONGODB\n",
    "client = MongoClient(\n",
    "    host= os.environ.get(\"ip_jobmarket\"),\n",
    "    port = 27017,\n",
    "    username = \"ff\",\n",
    "    password = os.environ.get(\"mysql_ff_jobmarket\")\n",
    ")\n",
    "\n",
    "print(client.list_database_names()) #test"
   ]
  },
  {
   "cell_type": "markdown",
   "metadata": {},
   "source": [
    "Requêtes SQL"
   ]
  },
  {
   "cell_type": "code",
   "execution_count": 19,
   "metadata": {},
   "outputs": [
    {
     "name": "stdout",
     "output_type": "stream",
     "text": [
      "[('3761024392', 'Emplois Autres/Général', 'Senior Data Scientist (EU Timezones Only)'), ('3953964675', 'Emplois Autres/Général', 'Arboriste Elagueur Grimpeur H/F (83)'), ('4510509862', 'Emplois Autres/Général', 'Consultant Interne PP SAP S/4 Cloud - H/F'), ('4554987825', 'Emplois Autres/Général', 'Project System Engineer'), ('4598985355', 'Emplois Autres/Général', 'DevRel & Community Manager'), ('4644095943', 'Emplois Autres/Général', 'AGENT DE DEVELOPPEMENT LOCAL F/H'), ('4660823840', 'Emplois Autres/Général', 'Chargé(e) de missions et marketing RH - Stage ou Alternance H/F'), ('4686034374', 'Emplois Autres/Général', 'SAISONNIER EMPLOYE COMMERCIAL (H/F)'), ('4689170129', 'Emplois Autres/Général', 'Chief Operating Officer'), ('4692276282', 'Emplois Autres/Général', 'CAISSIER - HÔTE DE CAISSE (H/F)'), ('4696416778', 'Emplois Autres/Général', \"CHEF DE PARTIE (H/F/NB) - Ouverture d'Hôtel\"), ('4703459008', 'Emplois Autres/Général', '-CHARCUTIER-TRAITEUR - BOULANGERIE (H/F)'), ('4703538631', 'Emplois Autres/Général', 'Account Executive'), ('4704105745', 'Emplois Autres/Général', 'CHEF de SECTEUR BRICOLAGE (H/F)'), ('4704106158', 'Emplois Autres/Général', 'Commis Pâtissier (H/F) - Maison Doucet'), ('4706331730', 'Emplois Autres/Général', 'Pâtissier'), ('4707163160', 'Emplois Autres/Général', 'Négociateur Location H/F'), ('4712779447', 'Emplois Autres/Général', 'Pricing Manager (H/F/X)'), ('4712779673', 'Emplois Autres/Général', 'STAGE - Acheteur junior H/F'), ('4712779743', 'Emplois Autres/Général', 'Apprenti(e) Assistant(e) Gestion Comptable H/F'), ('4714855642', 'Emplois Autres/Général', 'HOTE DE CAISSE (H/F) ETUDIANT'), ('4715963245', 'Emplois Autres/Général', 'Chargé de Recrutement CDD Bilingue')]\n"
     ]
    },
    {
     "data": {
      "text/plain": [
       "<sqlalchemy.engine.cursor.CursorResult at 0x1b12f0796a0>"
      ]
     },
     "execution_count": 19,
     "metadata": {},
     "output_type": "execute_result"
    }
   ],
   "source": [
    "def req_sql_where_cat(categorie):\n",
    "    with engine.connect() as connection:\n",
    "        result_table = connection.execute(text(f\"SELECT id, categorie, nom_poste FROM POSTES WHERE categorie='{categorie}';\"))\n",
    "        print(result_table.fetchall())\n",
    "    return result_table\n",
    "\n",
    "req_sql_where_cat(\"Emplois Autres/Général\")"
   ]
  }
 ],
 "metadata": {
  "kernelspec": {
   "display_name": "Python 3",
   "language": "python",
   "name": "python3"
  },
  "language_info": {
   "codemirror_mode": {
    "name": "ipython",
    "version": 3
   },
   "file_extension": ".py",
   "mimetype": "text/x-python",
   "name": "python",
   "nbconvert_exporter": "python",
   "pygments_lexer": "ipython3",
   "version": "3.12.2"
  }
 },
 "nbformat": 4,
 "nbformat_minor": 2
}
